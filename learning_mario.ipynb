{
 "cells": [
  {
   "cell_type": "code",
   "execution_count": 2,
   "metadata": {
    "collapsed": true
   },
   "outputs": [
    {
     "name": "stdout",
     "output_type": "stream",
     "text": [
      "epoch 0\n",
      "Total Loss: 57395.307389616966\n",
      "Accuracy: 0.1793017203501538\n",
      "Files output to: models/SuperMarioBros-v3_AdviceModel_8\n"
     ]
    }
   ],
   "source": [
    "from train_advice_model import train_model_on_dataset\n",
    "model, info = train_model_on_dataset(\n",
    "        model_name=\"AdviceModel\",\n",
    "        game_name=\"SuperMarioBros-v3\",\n",
    "        dataset_path=\"SuperMarioBros-v3_data\",\n",
    "        img_processor=\"downsample\",\n",
    "        num_frames=1,\n",
    "        num_epochs=1\n",
    "    )\n",
    "info"
   ]
  },
  {
   "cell_type": "code",
   "execution_count": 3,
   "outputs": [
    {
     "name": "stdout",
     "output_type": "stream",
     "text": [
      "Episode 0\n",
      "Episode Reward: 156\n",
      "Ending X Pos: 595\n",
      "Ending Time: 1\n",
      "done\n"
     ]
    }
   ],
   "source": [
    "from test_advice_model import test_model_on_game\n",
    "test_model_on_game(model, info, 1, False)\n",
    "print(\"done\")"
   ],
   "metadata": {
    "collapsed": false,
    "pycharm": {
     "name": "#%%\n"
    }
   }
  }
 ],
 "metadata": {
  "kernelspec": {
   "display_name": "Python 3",
   "language": "python",
   "name": "python3"
  },
  "language_info": {
   "codemirror_mode": {
    "name": "ipython",
    "version": 2
   },
   "file_extension": ".py",
   "mimetype": "text/x-python",
   "name": "python",
   "nbconvert_exporter": "python",
   "pygments_lexer": "ipython2",
   "version": "2.7.6"
  }
 },
 "nbformat": 4,
 "nbformat_minor": 0
}